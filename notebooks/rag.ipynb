{
 "cells": [
  {
   "cell_type": "code",
   "execution_count": null,
   "id": "b5dbddff",
   "metadata": {},
   "outputs": [],
   "source": [
    "import os\n",
    "import pandas as pd\n",
    "from dotenv import load_dotenv\n",
    "\n",
    "import qdrant_client\n",
    "import gutenbergpy.textget\n",
    "\n",
    "# from IPython.display import Markdown, display\n",
    "from llama_index.core import VectorStoreIndex, Settings, Document\n",
    "from llama_index.vector_stores.qdrant import QdrantVectorStore\n",
    "from llama_index.embeddings.fastembed import FastEmbedEmbedding\n",
    "from llama_index.llms.openai import OpenAI\n",
    "# from llama_index.core.indices.query.query_transform import HyDEQueryTransform\n",
    "\n",
    "load_dotenv()\n",
    "os.environ[\"OPENAI_API_KEY\"] = os.getenv(\"OPENAI_API_KEY\")"
   ]
  },
  {
   "cell_type": "code",
   "execution_count": null,
   "id": "012e20c9",
   "metadata": {},
   "outputs": [],
   "source": [
    "LLM_MODEL = \"gpt-5-mini\"\n",
    "EMBED_MODEL = \"BAAI/bge-base-en-v1.5\"\n",
    "QDRANT_HOST = \"localhost\"\n",
    "QDRANT_PORT = 6333\n",
    "REDIS_HOST = \"localhost\"\n",
    "REDIS_PORT = 6379"
   ]
  },
  {
   "cell_type": "code",
   "execution_count": null,
   "id": "af52cbcd",
   "metadata": {},
   "outputs": [],
   "source": [
    "embed_model = FastEmbedEmbedding(model_name=EMBED_MODEL)\n",
    "Settings.embed_model = embed_model\n",
    "\n",
    "llm = OpenAI(model=LLM_MODEL)"
   ]
  },
  {
   "cell_type": "code",
   "execution_count": null,
   "id": "323c846e",
   "metadata": {},
   "outputs": [],
   "source": [
    "client = qdrant_client.QdrantClient(host=\"localhost\", port=6333)\n",
    "\n",
    "COLLECTION = \"charles_dickens\"\n",
    "\n",
    "vector_store = QdrantVectorStore(\n",
    "    client=client,\n",
    "    enable_hybrid=True,\n",
    "    fastembed_sparse_model=\"Qdrant/bm25\",\n",
    "    collection_name=COLLECTION,\n",
    ")\n",
    "\n"
   ]
  },
  {
   "cell_type": "markdown",
   "id": "811ae0fa",
   "metadata": {},
   "source": [
    "# Indexing Pipeline"
   ]
  },
  {
   "cell_type": "markdown",
   "id": "c4a9bc1c",
   "metadata": {},
   "source": [
    "## Loading"
   ]
  },
  {
   "cell_type": "code",
   "execution_count": null,
   "id": "7a6b0100",
   "metadata": {},
   "outputs": [],
   "source": [
    "path = \"../data/test.csv\"\n",
    "df = pd.read_csv(path)\n",
    "df"
   ]
  },
  {
   "cell_type": "code",
   "execution_count": null,
   "id": "9bf6cd49",
   "metadata": {},
   "outputs": [],
   "source": [
    "from llama_index.readers.wikipedia import WikipediaReader\n",
    "\n",
    "reader = WikipediaReader()\n",
    "\n",
    "docs = []\n",
    "\n",
    "for _, row in df.iterrows():\n",
    "    book_id = row[\"Gutenberg ID\"]\n",
    "    book_title = row[\"Title\"]\n",
    "    book_text = (\n",
    "        gutenbergpy.textget.get_text_by_id(book_id)\n",
    "        .decode(\"utf-8\")\n",
    "        .replace(\"\\r\\n\", \"\\n\")\n",
    "    )\n",
    "    wiki_doc = reader.load_data(pages=[book_title])\n",
    "    docs.extend(\n",
    "        [\n",
    "            Document(text=book_text, metadata={\"title\": book_title, \"source\": \"book\"}),\n",
    "            Document(\n",
    "                text=wiki_doc[0].text,\n",
    "                metadata={\"title\": book_title, \"source\": \"wikipedia\"},\n",
    "            ),\n",
    "        ]\n",
    "    )"
   ]
  },
  {
   "cell_type": "code",
   "execution_count": null,
   "id": "e8579470",
   "metadata": {},
   "outputs": [],
   "source": [
    "docs"
   ]
  },
  {
   "cell_type": "markdown",
   "id": "f95225f9",
   "metadata": {},
   "source": [
    "## Indexing"
   ]
  },
  {
   "cell_type": "code",
   "execution_count": null,
   "id": "3dbc65bf",
   "metadata": {},
   "outputs": [],
   "source": [
    "from llama_index.core.extractors import (\n",
    "    TitleExtractor,\n",
    "    # QuestionsAnsweredExtractor,\n",
    ")\n",
    "from llama_index.core.node_parser import TokenTextSplitter\n",
    "\n",
    "text_splitter = TokenTextSplitter(\n",
    "    chunk_size=512,\n",
    "    chunk_overlap=128,\n",
    "    separator=\" \",\n",
    ")\n",
    "\n",
    "title_extractor = TitleExtractor(nodes=5)"
   ]
  },
  {
   "cell_type": "code",
   "execution_count": null,
   "id": "307163f4",
   "metadata": {},
   "outputs": [],
   "source": [
    "from llama_index.core.ingestion import IngestionPipeline, IngestionCache, DocstoreStrategy\n",
    "from llama_index.storage.kvstore.redis import RedisKVStore as RedisCache\n",
    "from llama_index.storage.docstore.redis import RedisDocumentStore\n",
    "\n",
    "REDIS_HOST = \"localhost\"\n",
    "REDIS_PORT = 6379\n",
    "\n",
    "redis_docstore = RedisDocumentStore(\n",
    "    host=REDIS_HOST, port=REDIS_PORT\n",
    ")\n",
    "redis_cache = RedisCache(host=REDIS_HOST, port=REDIS_PORT, collection=\"redis_cache\")\n",
    "\n",
    "pipeline = IngestionPipeline(\n",
    "    transformations=[text_splitter, title_extractor, embed_model],\n",
    "    vector_store=vector_store,\n",
    "    docstore=redis_docstore,\n",
    "    cache=redis_cache,\n",
    "    docstore_strategy=DocstoreStrategy.UPSERTS,\n",
    ")"
   ]
  },
  {
   "cell_type": "markdown",
   "id": "b9c43426",
   "metadata": {},
   "source": [
    "## Storing"
   ]
  },
  {
   "cell_type": "code",
   "execution_count": null,
   "id": "1723cfea",
   "metadata": {},
   "outputs": [],
   "source": [
    "nodes = pipeline.run(\n",
    "    documents=docs,\n",
    "    in_place=True,\n",
    "    show_progress=True,\n",
    ")"
   ]
  },
  {
   "cell_type": "code",
   "execution_count": null,
   "id": "15d2e917",
   "metadata": {},
   "outputs": [],
   "source": [
    "# storage_context = StorageContext.from_defaults(vector_store=vector_store)"
   ]
  },
  {
   "cell_type": "markdown",
   "id": "bcc3855a",
   "metadata": {},
   "source": [
    "# Generation Pipeline"
   ]
  },
  {
   "cell_type": "markdown",
   "id": "1d248cb4",
   "metadata": {},
   "source": [
    "## Querying"
   ]
  },
  {
   "cell_type": "code",
   "execution_count": null,
   "id": "dab24125",
   "metadata": {},
   "outputs": [],
   "source": [
    "index = VectorStoreIndex.from_vector_store(vector_store)"
   ]
  },
  {
   "cell_type": "code",
   "execution_count": null,
   "id": "b5b2d587",
   "metadata": {},
   "outputs": [],
   "source": [
    "query_engine = index.as_query_engine(\n",
    "    similarity_top_k=2, sparse_top_k=12, vector_store_query_mode=\"hybrid\"\n",
    ")"
   ]
  },
  {
   "cell_type": "code",
   "execution_count": null,
   "id": "394a4a71",
   "metadata": {},
   "outputs": [],
   "source": [
    "response = query_engine.query(\"What is 'A Christmas Carol' novel's main theme?\")\n",
    "print(response)"
   ]
  },
  {
   "cell_type": "markdown",
   "id": "bfcf9790",
   "metadata": {},
   "source": [
    "## Evaluation"
   ]
  },
  {
   "cell_type": "code",
   "execution_count": null,
   "id": "a5d98bd1",
   "metadata": {},
   "outputs": [],
   "source": []
  }
 ],
 "metadata": {
  "kernelspec": {
   "display_name": "default",
   "language": "python",
   "name": "python3"
  },
  "language_info": {
   "codemirror_mode": {
    "name": "ipython",
    "version": 3
   },
   "file_extension": ".py",
   "mimetype": "text/x-python",
   "name": "python",
   "nbconvert_exporter": "python",
   "pygments_lexer": "ipython3",
   "version": "3.11.13"
  }
 },
 "nbformat": 4,
 "nbformat_minor": 5
}
