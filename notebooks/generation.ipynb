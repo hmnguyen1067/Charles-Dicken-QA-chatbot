{
 "cells": [
  {
   "cell_type": "code",
   "execution_count": 1,
   "id": "4dc9e347",
   "metadata": {},
   "outputs": [
    {
     "name": "stderr",
     "output_type": "stream",
     "text": [
      "/Users/hmnguyen1067/Downloads/Github/Charles-Dicken-QA-chatbot/.pixi/envs/default/lib/python3.11/site-packages/tqdm/auto.py:21: TqdmWarning: IProgress not found. Please update jupyter and ipywidgets. See https://ipywidgets.readthedocs.io/en/stable/user_install.html\n",
      "  from .autonotebook import tqdm as notebook_tqdm\n"
     ]
    }
   ],
   "source": [
    "import os\n",
    "import qdrant_client\n",
    "\n",
    "from charles_dicken_qa_chatbot.constants import *\n",
    "\n",
    "from llama_index.vector_stores.qdrant import QdrantVectorStore\n",
    "from llama_index.core import VectorStoreIndex\n",
    "from llama_index.embeddings.fastembed import FastEmbedEmbedding\n",
    "from llama_index.llms.openai import OpenAI\n",
    "\n",
    "import nest_asyncio\n",
    "from dotenv import load_dotenv\n",
    "\n",
    "\n",
    "nest_asyncio.apply()\n",
    "\n",
    "load_dotenv()\n",
    "os.environ[\"OPENAI_API_KEY\"] = os.getenv(\"OPENAI_API_KEY\")"
   ]
  },
  {
   "cell_type": "code",
   "execution_count": null,
   "id": "c7dfa1af",
   "metadata": {},
   "outputs": [],
   "source": [
    "client = qdrant_client.QdrantClient(host=QDRANT_HOST, port=QDRANT_PORT)\n",
    "aclient = qdrant_client.AsyncQdrantClient(host=QDRANT_HOST, port=QDRANT_PORT)\n",
    "\n",
    "vector_store = QdrantVectorStore(\n",
    "    client=client,\n",
    "    aclient=aclient,\n",
    "    enable_hybrid=True,\n",
    "    fastembed_sparse_model=\"Qdrant/bm42-all-minilm-l6-v2-attentions\",\n",
    "    collection_name=COLLECTION_NAME,\n",
    ")"
   ]
  },
  {
   "cell_type": "code",
   "execution_count": 3,
   "id": "e2d6c653",
   "metadata": {},
   "outputs": [],
   "source": [
    "embed_model = FastEmbedEmbedding(model_name=EMBED_MODEL)\n",
    "llm = OpenAI(model=LLM_MODEL)"
   ]
  },
  {
   "cell_type": "markdown",
   "id": "aa8f609b",
   "metadata": {},
   "source": [
    "# Retrieval"
   ]
  },
  {
   "cell_type": "code",
   "execution_count": null,
   "id": "20302b62",
   "metadata": {},
   "outputs": [],
   "source": [
    "index = VectorStoreIndex.from_vector_store(\n",
    "    vector_store, use_async=True, embed_model=embed_model\n",
    ")\n",
    "\n",
    "query_engine = index.as_query_engine(\n",
    "    similarity_top_k=2,\n",
    "    sparse_top_k=8,\n",
    "    vector_store_query_mode=\"hybrid\",\n",
    "    hybrid_top_k=3,\n",
    "    llm=llm,\n",
    ")\n",
    "\n",
    "query_str = \"What is 'A Christmas Carol' novel's main theme?\""
   ]
  },
  {
   "cell_type": "markdown",
   "id": "8e3f46cc",
   "metadata": {},
   "source": [
    "## HyDE"
   ]
  },
  {
   "cell_type": "code",
   "execution_count": 5,
   "id": "e60e3c9b",
   "metadata": {},
   "outputs": [],
   "source": [
    "from llama_index.core.indices.query.query_transform.base import (\n",
    "    HyDEQueryTransform,\n",
    ")\n",
    "from llama_index.core.query_engine import TransformQueryEngine"
   ]
  },
  {
   "cell_type": "code",
   "execution_count": null,
   "id": "e2d7b89c",
   "metadata": {},
   "outputs": [],
   "source": [
    "hyde = HyDEQueryTransform(llm, include_original=True)\n",
    "hyde_query_engine = TransformQueryEngine(query_engine, query_transform=hyde)"
   ]
  },
  {
   "cell_type": "code",
   "execution_count": 13,
   "id": "39fe7680",
   "metadata": {},
   "outputs": [
    {
     "name": "stdout",
     "output_type": "stream",
     "text": [
      "The central theme is Scrooge’s transformation and redemption—his change from selfishness and indifference to generosity, compassion, and social responsibility. The novella frames this both as a Christian-style allegory of repentance and as a secular call for charity and concern for the poor (especially children), embodied by figures like Tiny Tim and the allegories of Want and Ignorance.\n"
     ]
    }
   ],
   "source": [
    "query_str = \"What is 'A Christmas Carol' novel's main theme?\"\n",
    "\n",
    "response = hyde_query_engine.query(query_str)\n",
    "print(response)"
   ]
  },
  {
   "cell_type": "code",
   "execution_count": null,
   "id": "9e05cf81",
   "metadata": {},
   "outputs": [],
   "source": []
  }
 ],
 "metadata": {
  "kernelspec": {
   "display_name": "default",
   "language": "python",
   "name": "python3"
  },
  "language_info": {
   "codemirror_mode": {
    "name": "ipython",
    "version": 3
   },
   "file_extension": ".py",
   "mimetype": "text/x-python",
   "name": "python",
   "nbconvert_exporter": "python",
   "pygments_lexer": "ipython3",
   "version": "3.11.13"
  }
 },
 "nbformat": 4,
 "nbformat_minor": 5
}
