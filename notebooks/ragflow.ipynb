{
 "cells": [
  {
   "cell_type": "code",
   "execution_count": null,
   "id": "509df856",
   "metadata": {},
   "outputs": [],
   "source": [
    "%load_ext autoreload\n",
    "%autoreload 2"
   ]
  },
  {
   "cell_type": "code",
   "execution_count": null,
   "id": "0ece5577",
   "metadata": {},
   "outputs": [],
   "source": [
    "from charles_dicken_qa_chatbot.workflow import RAGFlow\n",
    "from charles_dicken_qa_chatbot.constants import (\n",
    "    OPIK_BASE_URL,\n",
    "    OPIK_PROJ_NAME,\n",
    "    LLM_MODEL,\n",
    "    COLLECTION_NAME,\n",
    "    QDRANT_HOST,\n",
    "    QDRANT_PORT,\n",
    "    REDIS_HOST,\n",
    "    REDIS_PORT,\n",
    ")\n",
    "from llama_index.core.workflow import Context, JsonSerializer\n",
    "import pandas as pd"
   ]
  },
  {
   "cell_type": "markdown",
   "id": "361f049d",
   "metadata": {},
   "source": [
    "## Initialization"
   ]
  },
  {
   "cell_type": "code",
   "execution_count": null,
   "id": "caaf140f",
   "metadata": {},
   "outputs": [],
   "source": [
    "workflow = RAGFlow(\n",
    "    opik_host=OPIK_BASE_URL,\n",
    "    opik_project_name=OPIK_PROJ_NAME,\n",
    "    llm_model_name=LLM_MODEL,\n",
    "    collection_name=COLLECTION_NAME,\n",
    "    qdrant_host=QDRANT_HOST,\n",
    "    qdrant_port=QDRANT_PORT,\n",
    "    redis_host=REDIS_HOST,\n",
    "    redis_port=REDIS_PORT,\n",
    "    timeout=None,\n",
    ")\n",
    "ctx = Context(workflow)"
   ]
  },
  {
   "cell_type": "markdown",
   "id": "3d7ed71a",
   "metadata": {},
   "source": [
    "## Ingestion"
   ]
  },
  {
   "cell_type": "markdown",
   "id": "274dba44",
   "metadata": {},
   "source": [
    "The following code will assume that there is already data in Qdrant (given that Qdrant is preloaded with backup snapshot)"
   ]
  },
  {
   "cell_type": "code",
   "execution_count": null,
   "id": "23fdcd1f",
   "metadata": {},
   "outputs": [],
   "source": [
    "# Use default preloaded snapshot in Qdrant\n",
    "nodes = await workflow.run(from_default=True, ctx=ctx)\n",
    "await workflow.run(initialize_ctx=True, ctx=ctx)"
   ]
  },
  {
   "cell_type": "markdown",
   "id": "85d512c7",
   "metadata": {},
   "source": [
    "This cell block will load Qdrant database from scratch given Gutenberg IDs stored in a csv file"
   ]
  },
  {
   "cell_type": "code",
   "execution_count": null,
   "id": "2edaba89",
   "metadata": {},
   "outputs": [],
   "source": [
    "## Load documents from source path\n",
    "# source_path = \"../data/dickens_books.csv\"\n",
    "# nodes = await workflow.run(source_path=source_path, ctx=ctx)"
   ]
  },
  {
   "cell_type": "markdown",
   "id": "99b2ecce",
   "metadata": {},
   "source": [
    "## Evaluation"
   ]
  },
  {
   "cell_type": "markdown",
   "id": "051162e2",
   "metadata": {},
   "source": [
    "- Due to the large dataset, it's best to keep `sample_percentage` variable low so it doesn't take too much time to run. The tradeoff is that it might not best reflect the diversity of the content in evaluation dataset.\n",
    "- Also since async can get finicky so timeout or handling errors can pop up a lot. It's best to persist the data for backup and future reference."
   ]
  },
  {
   "cell_type": "markdown",
   "id": "a821cdc8",
   "metadata": {},
   "source": [
    "### Retriever evaluation"
   ]
  },
  {
   "cell_type": "markdown",
   "id": "e7458b2f",
   "metadata": {},
   "source": [
    "After ingesting data, you can choose either way below to run a retriever evaluation"
   ]
  },
  {
   "cell_type": "code",
   "execution_count": null,
   "id": "2bfb0c57",
   "metadata": {},
   "outputs": [],
   "source": [
    "# Load dataset generated from file\n",
    "await workflow.run(\n",
    "    qa_json_load_path=\"qa_dataset.json\",\n",
    "    ctx=ctx,\n",
    ")\n",
    "\n",
    "retriever_results_table = await ctx.store.get(\"retriever_results_table\")\n",
    "pd.read_json(retriever_results_table)"
   ]
  },
  {
   "cell_type": "code",
   "execution_count": null,
   "id": "7ad4773b",
   "metadata": {},
   "outputs": [],
   "source": [
    "# Run data generation from scratch\n",
    "# This will also create a json file called \"qa_dataset.json\"\n",
    "# upon completion of synthetic data generation\n",
    "# await workflow.run(\n",
    "#     qa_nodes=nodes,\n",
    "#     similarity_top_k=3,\n",
    "#     num_questions_per_chunk=1,\n",
    "#     sample_percentage=0.05,\n",
    "#     ctx=ctx,\n",
    "# )\n",
    "\n",
    "# retriever_results_table = await ctx.store.get(\"retriever_results_table\")\n",
    "# pd.read_json(retriever_results_table)"
   ]
  },
  {
   "cell_type": "markdown",
   "id": "8193bab3",
   "metadata": {},
   "source": [
    "### Response evaluation"
   ]
  },
  {
   "cell_type": "markdown",
   "id": "b0e19745",
   "metadata": {},
   "source": [
    "Opik endpoint for datasets: http://localhost:5173/default/datasets"
   ]
  },
  {
   "cell_type": "code",
   "execution_count": null,
   "id": "d4e7f8da",
   "metadata": {},
   "outputs": [],
   "source": [
    "# Run synthetic data generation for chunks and then upload the dataset to Opik,\n",
    "# run response evaluation on them\n",
    "# The dataset is called \"gpt-5-nano-charles_dickens-eval-YYYY-MM-DD\"\n",
    "# response_eval_result = await workflow.run(\n",
    "#     opik_nodes=nodes,\n",
    "#     num_questions_per_chunk=1,\n",
    "#     sample_percentage=0.05,\n",
    "#     opik=True,\n",
    "#     ctx=ctx,\n",
    "# )"
   ]
  },
  {
   "cell_type": "code",
   "execution_count": null,
   "id": "f18f4b85",
   "metadata": {},
   "outputs": [],
   "source": [
    "# If the dataset is already uploaded to Opik then the response evaluation\n",
    "# can be run without synthetic data generation\n",
    "\n",
    "opik_dataset_name = \"gpt-5-nano-charles_dickens-eval-2025-10-01\"\n",
    "\n",
    "response_eval_result = await workflow.run(\n",
    "    opik_dataset_name=opik_dataset_name,\n",
    "    num_questions_per_chunk=1,\n",
    "    sample_percentage=0.05,\n",
    "    opik=True,\n",
    "    ctx=ctx,\n",
    ")"
   ]
  },
  {
   "cell_type": "code",
   "execution_count": null,
   "id": "de0fb9c3",
   "metadata": {},
   "outputs": [],
   "source": [
    "response = await workflow.run(\n",
    "    query=\"What is 'Great Expectation' novel's main theme?\", ctx=ctx\n",
    ")"
   ]
  },
  {
   "cell_type": "code",
   "execution_count": null,
   "id": "69e6a10f",
   "metadata": {},
   "outputs": [],
   "source": [
    "response.response"
   ]
  },
  {
   "cell_type": "markdown",
   "id": "d79ea89f",
   "metadata": {},
   "source": [
    "### Save states"
   ]
  },
  {
   "cell_type": "code",
   "execution_count": null,
   "id": "bbf3d4c8",
   "metadata": {},
   "outputs": [],
   "source": [
    "import redis\n",
    "import json"
   ]
  },
  {
   "cell_type": "code",
   "execution_count": null,
   "id": "63baa437",
   "metadata": {},
   "outputs": [],
   "source": [
    "redis_client = redis.Redis(\n",
    "    host=REDIS_HOST, port=REDIS_PORT, db=0, decode_responses=True\n",
    ")"
   ]
  },
  {
   "cell_type": "code",
   "execution_count": null,
   "id": "cb427117",
   "metadata": {},
   "outputs": [],
   "source": [
    "ctx_dict = ctx.to_dict(serializer=JsonSerializer())"
   ]
  },
  {
   "cell_type": "code",
   "execution_count": null,
   "id": "300f52c0",
   "metadata": {},
   "outputs": [],
   "source": [
    "redis_client.set(\"ctx\", json.dumps(ctx_dict))"
   ]
  },
  {
   "cell_type": "markdown",
   "id": "6c72e2a6",
   "metadata": {},
   "source": [
    "# Load from settings"
   ]
  },
  {
   "cell_type": "code",
   "execution_count": null,
   "id": "5f51c638",
   "metadata": {},
   "outputs": [],
   "source": [
    "loaded_ctx_dict = json.loads(redis_client.get(\"ctx\"))"
   ]
  },
  {
   "cell_type": "code",
   "execution_count": null,
   "id": "90a3ab87",
   "metadata": {},
   "outputs": [],
   "source": [
    "aworkflow = RAGFlow(\n",
    "    opik_host=OPIK_BASE_URL,\n",
    "    opik_project_name=OPIK_PROJ_NAME,\n",
    "    llm_model_name=LLM_MODEL,\n",
    "    collection_name=COLLECTION_NAME,\n",
    "    qdrant_host=QDRANT_HOST,\n",
    "    qdrant_port=QDRANT_PORT,\n",
    "    redis_host=REDIS_HOST,\n",
    "    redis_port=REDIS_PORT,\n",
    "    timeout=180,\n",
    ")\n",
    "\n",
    "restored_ctx = Context.from_dict(\n",
    "    aworkflow, loaded_ctx_dict, serializer=JsonSerializer()\n",
    ")"
   ]
  },
  {
   "cell_type": "code",
   "execution_count": null,
   "id": "a0200f73",
   "metadata": {},
   "outputs": [],
   "source": [
    "await aworkflow.run(initialize_ctx=True, ctx=restored_ctx)"
   ]
  },
  {
   "cell_type": "code",
   "execution_count": null,
   "id": "4473037a",
   "metadata": {},
   "outputs": [],
   "source": [
    "query_str = \"What is 'A Christmas Carol' novel's main theme?\"\n",
    "response = await aworkflow.run(query=query_str, ctx=restored_ctx)"
   ]
  },
  {
   "cell_type": "code",
   "execution_count": null,
   "id": "4d3746ba",
   "metadata": {},
   "outputs": [],
   "source": [
    "response"
   ]
  },
  {
   "cell_type": "code",
   "execution_count": null,
   "id": "e481b88f",
   "metadata": {},
   "outputs": [],
   "source": [
    "response = await aworkflow.run(\n",
    "    query=\"What is the book stored in database?\", ctx=restored_ctx\n",
    ")"
   ]
  },
  {
   "cell_type": "code",
   "execution_count": null,
   "id": "3375d66e",
   "metadata": {},
   "outputs": [],
   "source": [
    "response.response"
   ]
  },
  {
   "cell_type": "code",
   "execution_count": null,
   "id": "d712d349",
   "metadata": {},
   "outputs": [],
   "source": [
    "await aworkflow.run(query=\"What is the book stored in database?\")"
   ]
  },
  {
   "cell_type": "code",
   "execution_count": null,
   "id": "fc8a31ea",
   "metadata": {},
   "outputs": [],
   "source": [
    "response = await aworkflow.run(\n",
    "    query=\"What is 'A Christmas Carol' novel's main theme?\", ctx=restored_ctx\n",
    ")"
   ]
  },
  {
   "cell_type": "code",
   "execution_count": null,
   "id": "565d0dab",
   "metadata": {},
   "outputs": [],
   "source": [
    "response.response"
   ]
  },
  {
   "cell_type": "code",
   "execution_count": null,
   "id": "4d0fdb2b",
   "metadata": {},
   "outputs": [],
   "source": [
    "response = await aworkflow.run(\n",
    "    query=\"What is 'A Christmas Carol' novel's main theme?\", ctx=restored_ctx\n",
    ")"
   ]
  }
 ],
 "metadata": {
  "kernelspec": {
   "display_name": "default",
   "language": "python",
   "name": "python3"
  },
  "language_info": {
   "codemirror_mode": {
    "name": "ipython",
    "version": 3
   },
   "file_extension": ".py",
   "mimetype": "text/x-python",
   "name": "python",
   "nbconvert_exporter": "python",
   "pygments_lexer": "ipython3",
   "version": "3.11.13"
  }
 },
 "nbformat": 4,
 "nbformat_minor": 5
}
