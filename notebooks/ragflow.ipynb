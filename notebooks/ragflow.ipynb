{
 "cells": [
  {
   "cell_type": "code",
   "execution_count": 1,
   "id": "509df856",
   "metadata": {},
   "outputs": [],
   "source": [
    "%load_ext autoreload\n",
    "%autoreload 2"
   ]
  },
  {
   "cell_type": "code",
   "execution_count": 2,
   "id": "0ece5577",
   "metadata": {},
   "outputs": [],
   "source": [
    "from charles_dicken_qa_chatbot.workflow import RAGFlow\n",
    "from charles_dicken_qa_chatbot.constants import (\n",
    "    OPIK_BASE_URL,\n",
    "    OPIK_PROJ_NAME,\n",
    "    LLM_MODEL,\n",
    "    COLLECTION_NAME,\n",
    "    QDRANT_HOST,\n",
    "    QDRANT_PORT,\n",
    "    REDIS_HOST,\n",
    "    REDIS_PORT,\n",
    ")\n",
    "from llama_index.core.workflow import Context, JsonSerializer\n",
    "import pandas as pd"
   ]
  },
  {
   "cell_type": "markdown",
   "id": "361f049d",
   "metadata": {},
   "source": [
    "# Initialization"
   ]
  },
  {
   "cell_type": "code",
   "execution_count": 3,
   "id": "caaf140f",
   "metadata": {},
   "outputs": [
    {
     "name": "stderr",
     "output_type": "stream",
     "text": [
      "OPIK: Configuration saved to file: /Users/hmnguyen1067/.opik.config\n",
      "OPIK: Configuration completed successfully. Traces will be logged to 'Default Project' by default. To change the destination project, see: https://www.comet.com/docs/opik/tracing/log_traces#configuring-the-project-name\n"
     ]
    }
   ],
   "source": [
    "workflow = RAGFlow(\n",
    "    opik_host=OPIK_BASE_URL,\n",
    "    opik_project_name=OPIK_PROJ_NAME,\n",
    "    llm_model_name=LLM_MODEL,\n",
    "    collection_name=COLLECTION_NAME,\n",
    "    qdrant_host=QDRANT_HOST,\n",
    "    qdrant_port=QDRANT_PORT,\n",
    "    redis_host=REDIS_HOST,\n",
    "    redis_port=REDIS_PORT,\n",
    "    timeout=180,\n",
    ")\n",
    "ctx = Context(workflow)"
   ]
  },
  {
   "cell_type": "markdown",
   "id": "3d7ed71a",
   "metadata": {},
   "source": [
    "### Ingestion"
   ]
  },
  {
   "cell_type": "code",
   "execution_count": 4,
   "id": "2edaba89",
   "metadata": {},
   "outputs": [
    {
     "name": "stderr",
     "output_type": "stream",
     "text": [
      "OPIK: Started logging traces to the \"charles-dicken-qa-2025-09-30\" project at http://localhost:5173/api/v1/session/redirect/projects/?trace_id=01999b00-d5c4-7212-b61b-5a03459eac66&path=aHR0cDovL2xvY2FsaG9zdDo1MTczL2FwaS8=.\n"
     ]
    },
    {
     "name": "stdout",
     "output_type": "stream",
     "text": [
      "Number of documents extracted: 2\n",
      "Number of chunks is: 125\n"
     ]
    }
   ],
   "source": [
    "# Load documents from source path\n",
    "source_path = \"../data/test.csv\"\n",
    "nodes = await workflow.run(source_path=source_path, ctx=ctx)"
   ]
  },
  {
   "cell_type": "markdown",
   "id": "a821cdc8",
   "metadata": {},
   "source": [
    "### Retriever evaluation"
   ]
  },
  {
   "cell_type": "code",
   "execution_count": 5,
   "id": "7ad4773b",
   "metadata": {},
   "outputs": [
    {
     "name": "stderr",
     "output_type": "stream",
     "text": [
      "  0%|          | 0/6 [00:00<?, ?it/s]OPIK: Started logging traces to the \"charles-dicken-qa-2025-09-30\" project at http://localhost:5173/api/v1/session/redirect/projects/?trace_id=01999b01-7d6e-7467-b468-06d9abd8a55f&path=aHR0cDovL2xvY2FsaG9zdDo1MTczL2FwaS8=.\n",
      "100%|██████████| 6/6 [00:56<00:00,  9.44s/it]\n",
      "/var/folders/hg/k9ghzsdd1b9bk0jwxf98nzy40000gn/T/ipykernel_13399/3411292733.py:9: FutureWarning: Passing literal json to 'read_json' is deprecated and will be removed in a future version. To read from a literal string, wrap it in a 'StringIO' object.\n",
      "  pd.read_json(retriever_results_table)\n"
     ]
    },
    {
     "data": {
      "text/html": [
       "<div>\n",
       "<style scoped>\n",
       "    .dataframe tbody tr th:only-of-type {\n",
       "        vertical-align: middle;\n",
       "    }\n",
       "\n",
       "    .dataframe tbody tr th {\n",
       "        vertical-align: top;\n",
       "    }\n",
       "\n",
       "    .dataframe thead th {\n",
       "        text-align: right;\n",
       "    }\n",
       "</style>\n",
       "<table border=\"1\" class=\"dataframe\">\n",
       "  <thead>\n",
       "    <tr style=\"text-align: right;\">\n",
       "      <th></th>\n",
       "      <th>retrievers</th>\n",
       "      <th>hit_rate</th>\n",
       "      <th>mrr</th>\n",
       "      <th>precision</th>\n",
       "      <th>recall</th>\n",
       "      <th>ap</th>\n",
       "      <th>ndcg</th>\n",
       "    </tr>\n",
       "  </thead>\n",
       "  <tbody>\n",
       "    <tr>\n",
       "      <th>0</th>\n",
       "      <td>Embedding Retriever</td>\n",
       "      <td>0.833333</td>\n",
       "      <td>0.750000</td>\n",
       "      <td>0.277778</td>\n",
       "      <td>0.833333</td>\n",
       "      <td>0.750000</td>\n",
       "      <td>0.771822</td>\n",
       "    </tr>\n",
       "    <tr>\n",
       "      <th>1</th>\n",
       "      <td>BM25 Retriever</td>\n",
       "      <td>0.666667</td>\n",
       "      <td>0.666667</td>\n",
       "      <td>0.222222</td>\n",
       "      <td>0.666667</td>\n",
       "      <td>0.666667</td>\n",
       "      <td>0.666667</td>\n",
       "    </tr>\n",
       "    <tr>\n",
       "      <th>2</th>\n",
       "      <td>Embedding + BM25 Retriever + Reranker</td>\n",
       "      <td>0.833333</td>\n",
       "      <td>0.833333</td>\n",
       "      <td>0.388889</td>\n",
       "      <td>0.833333</td>\n",
       "      <td>0.833333</td>\n",
       "      <td>0.833333</td>\n",
       "    </tr>\n",
       "  </tbody>\n",
       "</table>\n",
       "</div>"
      ],
      "text/plain": [
       "                              retrievers  hit_rate       mrr  precision  \\\n",
       "0                    Embedding Retriever  0.833333  0.750000   0.277778   \n",
       "1                         BM25 Retriever  0.666667  0.666667   0.222222   \n",
       "2  Embedding + BM25 Retriever + Reranker  0.833333  0.833333   0.388889   \n",
       "\n",
       "     recall        ap      ndcg  \n",
       "0  0.833333  0.750000  0.771822  \n",
       "1  0.666667  0.666667  0.666667  \n",
       "2  0.833333  0.833333  0.833333  "
      ]
     },
     "execution_count": 5,
     "metadata": {},
     "output_type": "execute_result"
    }
   ],
   "source": [
    "await workflow.run(\n",
    "    qa_nodes=nodes,\n",
    "    similarity_top_k=3,\n",
    "    num_questions_per_chunk=1,\n",
    "    sample_percentage=0.05,\n",
    "    ctx=ctx,\n",
    ")\n",
    "retriever_results_table = await ctx.store.get(\"retriever_results_table\")\n",
    "pd.read_json(retriever_results_table)"
   ]
  },
  {
   "cell_type": "code",
   "execution_count": 6,
   "id": "d4e7f8da",
   "metadata": {},
   "outputs": [
    {
     "data": {
      "application/vnd.jupyter.widget-view+json": {
       "model_id": "a83747f3bbd24e7695e97d29fa53054d",
       "version_major": 2,
       "version_minor": 0
      },
      "text/plain": [
       "Evaluation:   0%|          | 0/5 [00:00<?, ?it/s]"
      ]
     },
     "metadata": {},
     "output_type": "display_data"
    },
    {
     "data": {
      "text/html": [
       "<pre style=\"white-space:pre;overflow-x:auto;line-height:normal;font-family:Menlo,'DejaVu Sans Mono',consolas,'Courier New',monospace\">╭─ gpt-5-nano-charles_dickens-eval-2025-09-30 (5 samples) ─╮\n",
       "│                                                          │\n",
       "│ <span style=\"font-weight: bold\">Total time:       </span> 00:01:30                              │\n",
       "│ <span style=\"font-weight: bold\">Number of samples:</span> 5                                     │\n",
       "│                                                          │\n",
       "│ <span style=\"color: #008000; text-decoration-color: #008000; font-weight: bold\">hallucination_metric: 0.1700 (avg)</span>                       │\n",
       "│ <span style=\"color: #008000; text-decoration-color: #008000; font-weight: bold\">UsefulnessMetric: 0.7680 (avg)</span>                           │\n",
       "│ <span style=\"color: #008000; text-decoration-color: #008000; font-weight: bold\">answer_relevance_metric: 0.9220 (avg)</span>                    │\n",
       "│ <span style=\"color: #008000; text-decoration-color: #008000; font-weight: bold\">context_precision_metric: 0.7440 (avg)</span>                   │\n",
       "│ <span style=\"color: #008000; text-decoration-color: #008000; font-weight: bold\">context_recall_metric: 0.7920 (avg)</span>                      │\n",
       "│                                                          │\n",
       "╰──────────────────────────────────────────────────────────╯\n",
       "</pre>\n"
      ],
      "text/plain": [
       "╭─ gpt-5-nano-charles_dickens-eval-2025-09-30 (5 samples) ─╮\n",
       "│                                                          │\n",
       "│ \u001b[1mTotal time:       \u001b[0m 00:01:30                              │\n",
       "│ \u001b[1mNumber of samples:\u001b[0m 5                                     │\n",
       "│                                                          │\n",
       "│ \u001b[1;32mhallucination_metric: 0.1700 (avg)\u001b[0m                       │\n",
       "│ \u001b[1;32mUsefulnessMetric: 0.7680 (avg)\u001b[0m                           │\n",
       "│ \u001b[1;32manswer_relevance_metric: 0.9220 (avg)\u001b[0m                    │\n",
       "│ \u001b[1;32mcontext_precision_metric: 0.7440 (avg)\u001b[0m                   │\n",
       "│ \u001b[1;32mcontext_recall_metric: 0.7920 (avg)\u001b[0m                      │\n",
       "│                                                          │\n",
       "╰──────────────────────────────────────────────────────────╯\n"
      ]
     },
     "metadata": {},
     "output_type": "display_data"
    },
    {
     "data": {
      "text/html": [
       "<pre style=\"white-space:pre;overflow-x:auto;line-height:normal;font-family:Menlo,'DejaVu Sans Mono',consolas,'Courier New',monospace\">Uploading results to Opik <span style=\"color: #808000; text-decoration-color: #808000\">...</span> \n",
       "</pre>\n"
      ],
      "text/plain": [
       "Uploading results to Opik \u001b[33m...\u001b[0m \n"
      ]
     },
     "metadata": {},
     "output_type": "display_data"
    },
    {
     "data": {
      "text/html": [
       "<pre style=\"white-space:pre;overflow-x:auto;line-height:normal;font-family:Menlo,'DejaVu Sans Mono',consolas,'Courier New',monospace\">View the results <a href=\"http://localhost:5173/api/v1/session/redirect/experiments/?experiment_id=01999b02-942e-75e0-9ce8-b9eeaa165dd3&dataset_id=01999a11-ef26-7e1b-bfb7-9dcadb427895&path=aHR0cDovL2xvY2FsaG9zdDo1MTczL2FwaS8=\" target=\"_blank\">in your Opik dashboard</a>.\n",
       "</pre>\n"
      ],
      "text/plain": [
       "View the results \u001b]8;id=368581;http://localhost:5173/api/v1/session/redirect/experiments/?experiment_id=01999b02-942e-75e0-9ce8-b9eeaa165dd3&dataset_id=01999a11-ef26-7e1b-bfb7-9dcadb427895&path=aHR0cDovL2xvY2FsaG9zdDo1MTczL2FwaS8=\u001b\\in your Opik dashboard\u001b]8;;\u001b\\.\n"
      ]
     },
     "metadata": {},
     "output_type": "display_data"
    },
    {
     "name": "stdout",
     "output_type": "stream",
     "text": [
      "hallucination_metric: ScoreStatistics(mean=0.16999999999999998, max=0.6, min=0.0, values=[0.6, 0.0, 0.25, 0.0, 0.0], std=0.2636285265292813)\n",
      "UsefulnessMetric: ScoreStatistics(mean=0.768, max=0.9, min=0.6, values=[0.68, 0.6, 0.8, 0.86, 0.9], std=0.12537942414925984)\n",
      "answer_relevance_metric: ScoreStatistics(mean=0.9219999999999999, max=0.95, min=0.85, values=[0.85, 0.95, 0.94, 0.92, 0.95], std=0.042071367935925245)\n",
      "context_precision_metric: ScoreStatistics(mean=0.744, max=1.0, min=0.0, values=[0.0, 0.92, 0.8, 1.0, 1.0], std=0.42388677733564656)\n",
      "context_recall_metric: ScoreStatistics(mean=0.792, max=1.0, min=0.2, values=[0.2, 0.93, 0.85, 0.98, 1.0], std=0.3359613072959444)\n"
     ]
    }
   ],
   "source": [
    "response_eval_result = await workflow.run(\n",
    "    opik_nodes=nodes,\n",
    "    num_questions_per_chunk=1,\n",
    "    sample_percentage=0.05,\n",
    "    opik=True,\n",
    "    ctx=ctx,\n",
    ")"
   ]
  },
  {
   "cell_type": "code",
   "execution_count": 7,
   "id": "de0fb9c3",
   "metadata": {},
   "outputs": [],
   "source": [
    "response = await workflow.run(\n",
    "    query=\"What is 'A Christmas Carol' novel's main theme?\", ctx=ctx\n",
    ")"
   ]
  },
  {
   "cell_type": "code",
   "execution_count": 8,
   "id": "69e6a10f",
   "metadata": {},
   "outputs": [
    {
     "data": {
      "text/plain": [
       "'The central theme is the transformation and redemption of Ebenezer Scrooge, from selfishness to generosity, often seen as a call to charitable care for the poor.'"
      ]
     },
     "execution_count": 8,
     "metadata": {},
     "output_type": "execute_result"
    }
   ],
   "source": [
    "response.response"
   ]
  },
  {
   "cell_type": "markdown",
   "id": "d79ea89f",
   "metadata": {},
   "source": [
    "### Save states"
   ]
  },
  {
   "cell_type": "code",
   "execution_count": 9,
   "id": "bbf3d4c8",
   "metadata": {},
   "outputs": [],
   "source": [
    "import redis\n",
    "import json"
   ]
  },
  {
   "cell_type": "code",
   "execution_count": 10,
   "id": "63baa437",
   "metadata": {},
   "outputs": [],
   "source": [
    "redis_client = redis.Redis(\n",
    "    host=REDIS_HOST, port=REDIS_PORT, db=0, decode_responses=True\n",
    ")"
   ]
  },
  {
   "cell_type": "code",
   "execution_count": 11,
   "id": "cb427117",
   "metadata": {},
   "outputs": [],
   "source": [
    "ctx_dict = ctx.to_dict(serializer=JsonSerializer())"
   ]
  },
  {
   "cell_type": "code",
   "execution_count": 12,
   "id": "300f52c0",
   "metadata": {},
   "outputs": [
    {
     "data": {
      "text/plain": [
       "True"
      ]
     },
     "execution_count": 12,
     "metadata": {},
     "output_type": "execute_result"
    }
   ],
   "source": [
    "redis_client.set(\"ctx\", json.dumps(ctx_dict))"
   ]
  },
  {
   "cell_type": "markdown",
   "id": "6c72e2a6",
   "metadata": {},
   "source": [
    "# Load from settings"
   ]
  },
  {
   "cell_type": "code",
   "execution_count": 13,
   "id": "5f51c638",
   "metadata": {},
   "outputs": [],
   "source": [
    "loaded_ctx_dict = json.loads(redis_client.get(\"ctx\"))"
   ]
  },
  {
   "cell_type": "code",
   "execution_count": 14,
   "id": "90a3ab87",
   "metadata": {},
   "outputs": [
    {
     "name": "stderr",
     "output_type": "stream",
     "text": [
      "OPIK: Existing Opik clients will not use updated values for \"url\", \"api_key\", \"workspace\".\n",
      "OPIK: Configuration saved to file: /Users/hmnguyen1067/.opik.config\n",
      "OPIK: Configuration completed successfully. Traces will be logged to 'Default Project' by default. To change the destination project, see: https://www.comet.com/docs/opik/tracing/log_traces#configuring-the-project-name\n"
     ]
    }
   ],
   "source": [
    "aworkflow = RAGFlow(\n",
    "    opik_host=OPIK_BASE_URL,\n",
    "    opik_project_name=OPIK_PROJ_NAME,\n",
    "    llm_model_name=LLM_MODEL,\n",
    "    collection_name=COLLECTION_NAME,\n",
    "    qdrant_host=QDRANT_HOST,\n",
    "    qdrant_port=QDRANT_PORT,\n",
    "    redis_host=REDIS_HOST,\n",
    "    redis_port=REDIS_PORT,\n",
    "    timeout=180,\n",
    ")\n",
    "\n",
    "restored_ctx = Context.from_dict(\n",
    "    aworkflow, loaded_ctx_dict, serializer=JsonSerializer()\n",
    ")"
   ]
  },
  {
   "cell_type": "code",
   "execution_count": 15,
   "id": "a0200f73",
   "metadata": {},
   "outputs": [],
   "source": [
    "await aworkflow.run(initialize_ctx=True, ctx=restored_ctx)"
   ]
  },
  {
   "cell_type": "code",
   "execution_count": 16,
   "id": "4473037a",
   "metadata": {},
   "outputs": [
    {
     "name": "stderr",
     "output_type": "stream",
     "text": [
      "OPIK: No trace data found in context for event start. This is likely due to the fact that the trace is not started properly. The parent_id: 999d49f0-0ccb-4c02-99eb-06416f0807c3, event_type: CBEventType.CHUNKING, event_id: c7525cef-f54c-4468-8080-f0cfcf2fed2c.\n",
      "huggingface/tokenizers: The current process just got forked, after parallelism has already been used. Disabling parallelism to avoid deadlocks...\n",
      "To disable this warning, you can either:\n",
      "\t- Avoid using `tokenizers` before the fork if possible\n",
      "\t- Explicitly set the environment variable TOKENIZERS_PARALLELISM=(true | false)\n",
      "OPIK: No trace data found in context for event start. This is likely due to the fact that the trace is not started properly. The parent_id: 999d49f0-0ccb-4c02-99eb-06416f0807c3, event_type: CBEventType.CHUNKING, event_id: e487d872-9b4f-4379-afcd-ccbf264d63ca.\n"
     ]
    }
   ],
   "source": [
    "query_str = \"What is 'A Christmas Carol' novel's main theme?\"\n",
    "response = await aworkflow.run(query=query_str, ctx=restored_ctx)"
   ]
  },
  {
   "cell_type": "code",
   "execution_count": 17,
   "id": "4d3746ba",
   "metadata": {},
   "outputs": [
    {
     "data": {
      "text/plain": [
       "Response(response='The central theme is Scrooge’s transformation and redemption—from selfishness to compassion—and the accompanying call for charity toward the poor.', source_nodes=[NodeWithScore(node=TextNode(id_='de4fdb7e-c2a1-40e5-9dc1-ef23a0900c1b', embedding=None, metadata={'title': 'A Christmas Carol', 'gutenberg_id': 46, 'source': 'wikipedia', 'excerpt_keywords': 'Keywords: Scrooge, transformation, redemption, poverty, Want, Ignorance, TinyTim, ChristmasCarol, allegory, charity'}, excluded_embed_metadata_keys=[], excluded_llm_metadata_keys=[], relationships={<NodeRelationship.SOURCE: '1'>: RelatedNodeInfo(node_id='d20b7466-bde9-4537-9f75-4fe8076ae449', node_type='4', metadata={'title': 'A Christmas Carol', 'gutenberg_id': 46, 'source': 'wikipedia'}, hash='51e7df426437562abc8015ebfcdf0c52d9a01e69f51edc2e4b07373cdd9e7b2e'), <NodeRelationship.PREVIOUS: '2'>: RelatedNodeInfo(node_id='e913ddb5-85e6-4e93-9957-9a90aece7ccc', node_type='1', metadata={'title': 'A Christmas Carol', 'gutenberg_id': 46, 'source': 'wikipedia'}, hash='ce55f9123a10494bd85f342aa14d64a747a7847062111953eb7265252cf5f427'), <NodeRelationship.NEXT: '3'>: RelatedNodeInfo(node_id='458ff953-9b89-433a-b7b8-c103fd0edcd3', node_type='1', metadata={}, hash='e0d53d3d3b68c29c73663ac4111a98d6e30d2af34355604193a3187e05decbb3')}, metadata_template='{key}: {value}', metadata_separator='\\n', text='The two figures of Want and Ignorance, sheltering in the robes of the Ghost of Christmas Present, were inspired by the children Dickens had seen on his visit to a ragged school in the East End of London.\\n\\n\\n== Themes ==\\n\\nThe transformation of Scrooge is central to the story. Davis considers Scrooge to be \"a protean figure always in process of reformation\"; Kelly writes that the transformation is reflected in the description of Scrooge, who begins as a two-dimensional character, but who then grows into one who \"possess[es] an emotional depth [and] a regret for lost opportunities\". Some writers, including the Dickens scholar Grace Moore, consider that there is a Christian theme running through A Christmas Carol, and that the novella should be seen as an allegory of the Christian concept of redemption. Dickens\\'s biographer, Claire Tomalin, sees the conversion of Scrooge as carrying the Christian message that \"even the worst of sinners may repent and become a good man\". Dickens\\'s attitudes towards organised religion were complex; he based his beliefs and principles on the New Testament. His statement that Marley \"had no bowels\" is a reference to the \"bowels of compassion\" mentioned in the First Epistle of John, the reason for his eternal damnation.\\nOther writers, including Kelly, consider that Dickens put forward a \"secular vision of this sacred holiday\". The Dickens scholar John O. Jordan argues that A Christmas Carol shows what Dickens referred to in a letter to his friend John Forster as his \"Carol philosophy, cheerful views, sharp anatomisation of humbug, jolly good temper ... and a vein of glowing, hearty, generous, mirthful, beaming reference in everything to Home and Fireside\". From a secular viewpoint, the cultural historian Penne Restad suggests that Scrooge\\'s redemption underscores \"the conservative, individualistic and patriarchal aspects\" of Dickens\\'s \"Carol philosophy\" of charity and altruism.\\nDickens wrote A Christmas Carol in response to British social attitudes towards poverty, particularly child poverty, and wished to use the novella as a means to put forward his arguments against it. The story shows Scrooge as a paradigm for self-interest, and the possible repercussions of ignoring the poor, especially children—personified by the allegorical figures of Want and Ignorance. The two figures were created to arouse sympathy with readers—as was Tiny Tim. Douglas-Fairhurst observes that the use of such figures allowed Dickens to present his message of the need for charity without alienating his largely middle-class readership.', mimetype='text/plain', start_char_idx=15804, end_char_idx=18382, metadata_seperator='\\n', text_template='[Excerpt from document]\\n{metadata_str}\\nExcerpt:\\n-----\\n{content}\\n-----\\n'), score=0.88904893), NodeWithScore(node=TextNode(id_='47f8bd50-9f28-4b2d-8e96-cca3eb13ea5c', embedding=None, metadata={'title': 'A Christmas Carol', 'gutenberg_id': 46, 'source': 'wikipedia', 'excerpt_keywords': \"A Christmas Carol, Charles Dickens, literary criticism, The Illustrated London News, The Athenaeum, Fraser's Magazine, Tait's Edinburgh Magazine, John Ruskin, Margaret Oliphant, charitable themes\"}, excluded_embed_metadata_keys=[], excluded_llm_metadata_keys=[], relationships={<NodeRelationship.SOURCE: '1'>: RelatedNodeInfo(node_id='d20b7466-bde9-4537-9f75-4fe8076ae449', node_type='4', metadata={'title': 'A Christmas Carol', 'gutenberg_id': 46, 'source': 'wikipedia'}, hash='51e7df426437562abc8015ebfcdf0c52d9a01e69f51edc2e4b07373cdd9e7b2e'), <NodeRelationship.PREVIOUS: '2'>: RelatedNodeInfo(node_id='458ff953-9b89-433a-b7b8-c103fd0edcd3', node_type='1', metadata={'title': 'A Christmas Carol', 'gutenberg_id': 46, 'source': 'wikipedia'}, hash='464d3a5d695d5b9c4a663e3a34205ffb1a5d8e221b8ca3b344360e7cdf9a62e0'), <NodeRelationship.NEXT: '3'>: RelatedNodeInfo(node_id='be52b7e7-e1f1-4bd6-b1a9-31a68a03e05c', node_type='1', metadata={}, hash='1bd8354a1cddff238e98f185d31aca8e38705e623e217d872013642df5947213')}, metadata_template='{key}: {value}', metadata_separator='\\n', text='The Illustrated London News described how the story\\'s \"impressive eloquence ... its unfeigned lightness of heart—its playful and sparkling humour ... its gentle spirit of humanity\" all put the reader \"in good humour with ourselves, with each other, with the season and with the author\". The critic from The Athenaeum, the literary magazine, considered it a \"tale to make the reader laugh and cry – to open his hands, and open his heart to charity even toward the uncharitable ... a dainty dish to set before a King.\" William Makepeace Thackeray, writing in Fraser\\'s Magazine, described the book as \"a national benefit and to every man or woman who reads it, a personal kindness. The last two people I heard speak of it were women; neither knew the other, or the author, and both said, by way of criticism, \\'God bless him!\\'\"\\nThe poet Thomas Hood, in his own journal, wrote that \"If Christmas, with its ancient and hospitable customs, its social and charitable observances, were ever in danger of decay, this is the book that would give them a new lease.\" The reviewer for Tait\\'s Edinburgh Magazine—Theodore Martin, who was usually critical of Dickens\\'s work—spoke well of A Christmas Carol, noting it was \"a noble book, finely felt and calculated to work much social good\". After Dickens\\'s death, Margaret Oliphant deplored the turkey and plum pudding aspects of the book but admitted that in the days of its first publication it was regarded as \"a new gospel\", and noted that the book was unique in that it made people behave better. The religious press generally ignored the tale but, in January 1844, Christian Remembrancer thought the tale\\'s old and hackneyed subject was treated in an original way and praised the author\\'s sense of humour and pathos. The writer and social thinker John Ruskin told a friend that he thought Dickens had taken the religion from Christmas, and had imagined it as \"mistletoe and pudding—neither resurrection from the dead, nor rising of new stars, nor teaching of wise men, nor shepherds\".\\nThere were critics of the book. The New Monthly Magazine praised the story, but thought the book\\'s physical excesses—the gilt edges and expensive binding—kept the price high, making it unavailable to the poor.', mimetype='text/plain', start_char_idx=20224, end_char_idx=22456, metadata_seperator='\\n', text_template='[Excerpt from document]\\n{metadata_str}\\nExcerpt:\\n-----\\n{content}\\n-----\\n'), score=0.8804796), NodeWithScore(node=TextNode(id_='765a26a1-7c89-46c0-91c7-c2826d1907e8', embedding=None, metadata={'title': 'A Christmas Carol', 'gutenberg_id': 46, 'source': 'wikipedia', 'excerpt_keywords': 'Keywords: A Christmas Carol, Dickens, Ebenezer Scrooge, Jacob Marley, Ghosts of Christmas Past Present Yet to Come, Victorian Christmas, redemption, poverty, Field Lane Ragged School, John Leech'}, excluded_embed_metadata_keys=[], excluded_llm_metadata_keys=[], relationships={<NodeRelationship.SOURCE: '1'>: RelatedNodeInfo(node_id='d20b7466-bde9-4537-9f75-4fe8076ae449', node_type='4', metadata={'title': 'A Christmas Carol', 'gutenberg_id': 46, 'source': 'wikipedia'}, hash='51e7df426437562abc8015ebfcdf0c52d9a01e69f51edc2e4b07373cdd9e7b2e'), <NodeRelationship.NEXT: '3'>: RelatedNodeInfo(node_id='a4b60f6a-fe19-470d-8fe7-74ee5913919b', node_type='1', metadata={}, hash='bae61ad38e8f3adc60e706fb922cbb497efbd1d659eac0a541e3f833d2cd20a7')}, metadata_template='{key}: {value}', metadata_separator='\\n', text='A Christmas Carol. In Prose. Being a Ghost Story of Christmas, commonly known as A Christmas Carol, is a novella by Charles Dickens, first published in London by Chapman & Hall in 1843 and illustrated by John Leech. It recounts the story of Ebenezer Scrooge, an elderly miser who is visited by the ghost of his former business partner Jacob Marley and the spirits of Christmas Past, Present and Yet to Come. In the process, Scrooge is transformed into a kinder, gentler man.\\nDickens wrote A Christmas Carol during a period when the British were exploring and re-evaluating past Christmas traditions, including carols, and newer customs such as cards and Christmas trees. He was influenced by the experiences of his own youth and by the Christmas stories of other authors, including Washington Irving and Douglas Jerrold. Dickens had written three Christmas stories prior to the novella, and was inspired following a visit to the Field Lane Ragged School, one of several establishments for London\\'s street children. The treatment of the poor and the ability of a selfish man to redeem himself by transforming into a more sympathetic character are the key themes of the story. There is discussion among academics as to whether this is a fully secular story or a Christian allegory.\\nPublished on 19 December, the first edition sold out by Christmas Eve; by the end of 1844 thirteen editions had been released. Most critics reviewed the novella favourably. The story was illicitly copied in January 1844; Dickens took legal action against the publishers, who went bankrupt, further reducing Dickens\\'s small profits from the publication. He subsequently wrote four other Christmas stories. In 1849 he began public readings of the story, which proved so successful he undertook 127 further performances until 1870, the year of his death. A Christmas Carol has never been out of print and has been translated into several languages; the story has been adapted many times for film, stage, opera and other media.\\nA Christmas Carol captured the zeitgeist of the early Victorian revival of the Christmas holiday. Dickens acknowledged the influence of the modern Western observance of Christmas and later inspired several aspects of Christmas, including family gatherings, seasonal food and drink, dancing, games and a festive generosity of spirit.\\n\\n\\n== Plot ==\\n\\nThe book is divided into five chapters, which Dickens titled \"staves\".', mimetype='text/plain', start_char_idx=0, end_char_idx=2421, metadata_seperator='\\n', text_template='[Excerpt from document]\\n{metadata_str}\\nExcerpt:\\n-----\\n{content}\\n-----\\n'), score=0.8795072)], metadata={'de4fdb7e-c2a1-40e5-9dc1-ef23a0900c1b': {'title': 'A Christmas Carol', 'gutenberg_id': 46, 'source': 'wikipedia', 'excerpt_keywords': 'Keywords: Scrooge, transformation, redemption, poverty, Want, Ignorance, TinyTim, ChristmasCarol, allegory, charity'}, '47f8bd50-9f28-4b2d-8e96-cca3eb13ea5c': {'title': 'A Christmas Carol', 'gutenberg_id': 46, 'source': 'wikipedia', 'excerpt_keywords': \"A Christmas Carol, Charles Dickens, literary criticism, The Illustrated London News, The Athenaeum, Fraser's Magazine, Tait's Edinburgh Magazine, John Ruskin, Margaret Oliphant, charitable themes\"}, '765a26a1-7c89-46c0-91c7-c2826d1907e8': {'title': 'A Christmas Carol', 'gutenberg_id': 46, 'source': 'wikipedia', 'excerpt_keywords': 'Keywords: A Christmas Carol, Dickens, Ebenezer Scrooge, Jacob Marley, Ghosts of Christmas Past Present Yet to Come, Victorian Christmas, redemption, poverty, Field Lane Ragged School, John Leech'}})"
      ]
     },
     "execution_count": 17,
     "metadata": {},
     "output_type": "execute_result"
    }
   ],
   "source": [
    "response"
   ]
  },
  {
   "cell_type": "code",
   "execution_count": 18,
   "id": "e481b88f",
   "metadata": {},
   "outputs": [
    {
     "name": "stderr",
     "output_type": "stream",
     "text": [
      "OPIK: No trace data found in context for event start. This is likely due to the fact that the trace is not started properly. The parent_id: 3c032355-0f9e-4bae-ba16-378c795b3858, event_type: CBEventType.CHUNKING, event_id: 3c6f6139-88fb-4582-a1fb-765837c92334.\n",
      "OPIK: No trace data found in context for event start. This is likely due to the fact that the trace is not started properly. The parent_id: 3c032355-0f9e-4bae-ba16-378c795b3858, event_type: CBEventType.CHUNKING, event_id: 8074abe9-1ce6-41be-a2ed-06884725680f.\n"
     ]
    }
   ],
   "source": [
    "response = await aworkflow.run(\n",
    "    query=\"What is the book stored in database?\", ctx=restored_ctx\n",
    ")"
   ]
  },
  {
   "cell_type": "code",
   "execution_count": 19,
   "id": "3375d66e",
   "metadata": {},
   "outputs": [
    {
     "data": {
      "text/plain": [
       "'A Christmas Carol.'"
      ]
     },
     "execution_count": 19,
     "metadata": {},
     "output_type": "execute_result"
    }
   ],
   "source": [
    "response.response"
   ]
  },
  {
   "cell_type": "code",
   "execution_count": 20,
   "id": "d712d349",
   "metadata": {},
   "outputs": [
    {
     "name": "stderr",
     "output_type": "stream",
     "text": [
      "OPIK: No trace data found in context for event start. This is likely due to the fact that the trace is not started properly. The parent_id: 1ea274a7-a8f5-4685-ab22-dc9160c31d0a, event_type: CBEventType.CHUNKING, event_id: 0b809fbf-2f72-4f19-9a9e-20999fc31c3a.\n",
      "OPIK: No trace data found in context for event start. This is likely due to the fact that the trace is not started properly. The parent_id: 1ea274a7-a8f5-4685-ab22-dc9160c31d0a, event_type: CBEventType.CHUNKING, event_id: 9c09e6c0-4cc8-42b1-8a2b-2568310e1d26.\n"
     ]
    },
    {
     "data": {
      "text/plain": [
       "Response(response='A Christmas Carol.', source_nodes=[NodeWithScore(node=TextNode(id_='67cd4471-6b14-4806-b221-830ee7dc08b0', embedding=None, metadata={'title': 'A Christmas Carol', 'gutenberg_id': 46, 'source': 'book', 'excerpt_keywords': 'Scrooge, Spirit, Ali Baba, Valentine, Orson, Parrot, Damascus, Genii, Christmas, Sultan'}, excluded_embed_metadata_keys=[], excluded_llm_metadata_keys=[], relationships={<NodeRelationship.SOURCE: '1'>: RelatedNodeInfo(node_id='02ee8923-958a-4409-92a3-73b3b725b7a4', node_type='4', metadata={'title': 'A Christmas Carol', 'gutenberg_id': 46, 'source': 'book'}, hash='71c58145a6f84f632ef4e5a660a243315a8603b3a60d0064f3f52293665d02dd'), <NodeRelationship.PREVIOUS: '2'>: RelatedNodeInfo(node_id='b46c6d03-bad2-4c02-964b-54325bc883c7', node_type='1', metadata={'title': 'A Christmas Carol', 'gutenberg_id': 46, 'source': 'book'}, hash='e3183cbb1b0f76920e5c9cafd21cb3116d681184f8f2ef4ac7e776a13c6eb265'), <NodeRelationship.NEXT: '3'>: RelatedNodeInfo(node_id='9a6df537-9d48-4ff8-b07e-9e3b6446d4a6', node_type='1', metadata={}, hash='8fc5ad827518b6c5ad4e76007675f6d2434af9f8b29ffac59038e19e8503e987')}, metadata_template='{key}: {value}', metadata_separator='\\n', text='At one of these a lonely\\nboy was reading near a feeble fire; and Scrooge sat down\\nupon a form, and wept to see his poor forgotten self as he\\nused to be.\\n\\nNot a latent echo in the house, not a squeak and scuffle\\nfrom the mice behind the panelling, not a drip from the\\nhalf-thawed water-spout in the dull yard behind, not a sigh among\\nthe leafless boughs of one despondent poplar, not the idle\\nswinging of an empty store-house door, no, not a clicking in\\nthe fire, but fell upon the heart of Scrooge with a softening\\ninfluence, and gave a freer passage to his tears.\\n\\nThe Spirit touched him on the arm, and pointed to his\\nyounger self, intent upon his reading. Suddenly a man, in\\nforeign garments: wonderfully real and distinct to look at:\\nstood outside the window, with an axe stuck in his belt, and\\nleading by the bridle an ass laden with wood.\\n\\n\"Why, it\\'s Ali Baba!\" Scrooge exclaimed in ecstasy. \"It\\'s\\ndear old honest Ali Baba! Yes, yes, I know! One Christmas\\ntime, when yonder solitary child was left here all alone,\\nhe did come, for the first time, just like that. Poor boy! And\\nValentine,\" said Scrooge, \"and his wild brother, Orson; there\\nthey go! And what\\'s his name, who was put down in his\\ndrawers, asleep, at the Gate of Damascus; don\\'t you see him!\\nAnd the Sultan\\'s Groom turned upside down by the Genii;\\nthere he is upon his head! Serve him right. I\\'m glad of it.\\nWhat business had he to be married to the Princess!\"\\n\\nTo hear Scrooge expending all the earnestness of his nature\\non such subjects, in a most extraordinary voice between\\nlaughing and crying; and to see his heightened and excited\\nface; would have been a surprise to his business friends in\\nthe city, indeed.\\n\\n\"There\\'s the Parrot!\" cried Scrooge. \"Green body and\\nyellow tail, with a thing like a lettuce growing out of the\\ntop of his head; there he is!', mimetype='text/plain', start_char_idx=48329, end_char_idx=50155, metadata_seperator='\\n', text_template='[Excerpt from document]\\n{metadata_str}\\nExcerpt:\\n-----\\n{content}\\n-----\\n'), score=0.74838233), NodeWithScore(node=TextNode(id_='fbb1074a-50a8-4352-ad68-bfa439261c7c', embedding=None, metadata={'title': 'A Christmas Carol', 'gutenberg_id': 46, 'source': 'book', 'excerpt_keywords': 'Keywords: Project Gutenberg, Gutenberg-tm, volunteers, donations, Project Gutenberg Literary Archive Foundation, 501(c)(3), tax deductible, IRS, Salt Lake City, contact'}, excluded_embed_metadata_keys=[], excluded_llm_metadata_keys=[], relationships={<NodeRelationship.SOURCE: '1'>: RelatedNodeInfo(node_id='02ee8923-958a-4409-92a3-73b3b725b7a4', node_type='4', metadata={'title': 'A Christmas Carol', 'gutenberg_id': 46, 'source': 'book'}, hash='71c58145a6f84f632ef4e5a660a243315a8603b3a60d0064f3f52293665d02dd'), <NodeRelationship.PREVIOUS: '2'>: RelatedNodeInfo(node_id='5a61867a-b6ef-4c65-b4df-2d160dce8592', node_type='1', metadata={'title': 'A Christmas Carol', 'gutenberg_id': 46, 'source': 'book'}, hash='7fcaf61054dbf39713e2d55ff1552982f0059572f4a5f9ec3da20439720af382'), <NodeRelationship.NEXT: '3'>: RelatedNodeInfo(node_id='c223269a-9651-453c-8a79-93e74252a4be', node_type='1', metadata={}, hash='7d26b85b661011d81cc236c9bafa0f9a31f6a194cf1357e7e9b5bb743b8c66ec')}, metadata_template='{key}: {value}', metadata_separator='\\n', text=\"Section 2. Information about the Mission of Project Gutenberg-tm\\n\\nProject Gutenberg-tm is synonymous with the free distribution of\\nelectronic works in formats readable by the widest variety of\\ncomputers including obsolete, old, middle-aged and new computers. It\\nexists because of the efforts of hundreds of volunteers and donations\\nfrom people in all walks of life.\\n\\nVolunteers and financial support to provide volunteers with the\\nassistance they need are critical to reaching Project Gutenberg-tm's\\ngoals and ensuring that the Project Gutenberg-tm collection will\\nremain freely available for generations to come. In 2001, the Project\\nGutenberg Literary Archive Foundation was created to provide a secure\\nand permanent future for Project Gutenberg-tm and future\\ngenerations. To learn more about the Project Gutenberg Literary\\nArchive Foundation and how your efforts and donations can help, see\\nSections 3 and 4 and the Foundation information page at\\nwww.gutenberg.org\\n\\nSection 3. Information about the Project Gutenberg Literary\\nArchive Foundation\\n\\nThe Project Gutenberg Literary Archive Foundation is a non-profit\\n501(c)(3) educational corporation organized under the laws of the\\nstate of Mississippi and granted tax exempt status by the Internal\\nRevenue Service. The Foundation's EIN or federal tax identification\\nnumber is 64-6221541. Contributions to the Project Gutenberg Literary\\nArchive Foundation are tax deductible to the full extent permitted by\\nU.S. federal laws and your state's laws.\\n\\nThe Foundation's business office is located at 809 North 1500 West,\\nSalt Lake City, UT 84116, (801) 596-1887. Email contact links and up\\nto date contact information can be found at the Foundation's website\\nand official page at www.gutenberg.org/contact\\n\\nSection 4. Information about Donations to the Project Gutenberg\\nLiterary Archive Foundation\\n\\nProject Gutenberg-tm depends upon and cannot survive without\\nwidespread public support and donations to carry out its mission of\\nincreasing the number of public domain and licensed works that can be\\nfreely distributed in machine-readable form accessible by the widest\\narray of equipment including outdated equipment. Many small donations\\n($1 to $5,000) are particularly important to maintaining tax exempt\\nstatus with the IRS.\\n\\nThe Foundation is committed to complying with the laws regulating\\ncharities and charitable donations in all 50 states of the United\\nStates.\", mimetype='text/plain', start_char_idx=173208, end_char_idx=175620, metadata_seperator='\\n', text_template='[Excerpt from document]\\n{metadata_str}\\nExcerpt:\\n-----\\n{content}\\n-----\\n'), score=0.74762547), NodeWithScore(node=TextNode(id_='5cb1f4cf-97e0-489f-a00d-92eadc87a0a8', embedding=None, metadata={'title': 'A Christmas Carol', 'gutenberg_id': 46, 'source': 'book', 'excerpt_keywords': 'Project Gutenberg, license, Foundation, copyright, public domain, terms, agreement, derivative works, compliance, references'}, excluded_embed_metadata_keys=[], excluded_llm_metadata_keys=[], relationships={<NodeRelationship.SOURCE: '1'>: RelatedNodeInfo(node_id='02ee8923-958a-4409-92a3-73b3b725b7a4', node_type='4', metadata={'title': 'A Christmas Carol', 'gutenberg_id': 46, 'source': 'book'}, hash='71c58145a6f84f632ef4e5a660a243315a8603b3a60d0064f3f52293665d02dd'), <NodeRelationship.PREVIOUS: '2'>: RelatedNodeInfo(node_id='b754724e-cdc0-42e6-ac01-e24e3080ef4a', node_type='1', metadata={'title': 'A Christmas Carol', 'gutenberg_id': 46, 'source': 'book'}, hash='d755c142e2fdd7dae7a46b288b0b8f59bb78788b9df030eae0647887b8d506f8'), <NodeRelationship.NEXT: '3'>: RelatedNodeInfo(node_id='0a4ac8ce-f44f-4ffc-9498-22bf7b037506', node_type='1', metadata={}, hash='2fe3d7b434ce03f89eb085d9d5528f706ba8351c5872db6c5ec7b59626c5ea2d')}, metadata_template='{key}: {value}', metadata_separator='\\n', text='1.B. \"Project Gutenberg\" is a registered trademark. It may only be\\nused on or associated in any way with an electronic work by people who\\nagree to be bound by the terms of this agreement. There are a few\\nthings that you can do with most Project Gutenberg-tm electronic works\\neven without complying with the full terms of this agreement. See\\nparagraph 1.C below. There are a lot of things you can do with Project\\nGutenberg-tm electronic works if you follow the terms of this\\nagreement and help preserve free future access to Project Gutenberg-tm\\nelectronic works. See paragraph 1.E below.\\n\\n1.C. The Project Gutenberg Literary Archive Foundation (\"the\\nFoundation\" or PGLAF), owns a compilation copyright in the collection\\nof Project Gutenberg-tm electronic works. Nearly all the individual\\nworks in the collection are in the public domain in the United\\nStates. If an individual work is unprotected by copyright law in the\\nUnited States and you are located in the United States, we do not\\nclaim a right to prevent you from copying, distributing, performing,\\ndisplaying or creating derivative works based on the work as long as\\nall references to Project Gutenberg are removed. Of course, we hope\\nthat you will support the Project Gutenberg-tm mission of promoting\\nfree access to electronic works by freely sharing Project Gutenberg-tm\\nworks in compliance with the terms of this agreement for keeping the\\nProject Gutenberg-tm name associated with the work. You can easily\\ncomply with the terms of this agreement by keeping this work in the\\nsame format with its attached full Project Gutenberg-tm License when\\nyou share it without charge with others.\\n\\n1.D. The copyright laws of the place where you are located also govern\\nwhat you can do with this work. Copyright laws in most countries are\\nin a constant state of change. If you are outside the United States,\\ncheck the laws of your country in addition to the terms of this\\nagreement before downloading, copying, displaying, performing,\\ndistributing or creating derivative works based on this work or any\\nother Project Gutenberg-tm work. The Foundation makes no\\nrepresentations concerning the copyright status of any work in any\\ncountry other than the United States.\\n\\n1.E. Unless you have removed all references to Project Gutenberg:\\n\\n1.E.1.', mimetype='text/plain', start_char_idx=161832, end_char_idx=164118, metadata_seperator='\\n', text_template='[Excerpt from document]\\n{metadata_str}\\nExcerpt:\\n-----\\n{content}\\n-----\\n'), score=0.747303)], metadata={'67cd4471-6b14-4806-b221-830ee7dc08b0': {'title': 'A Christmas Carol', 'gutenberg_id': 46, 'source': 'book', 'excerpt_keywords': 'Scrooge, Spirit, Ali Baba, Valentine, Orson, Parrot, Damascus, Genii, Christmas, Sultan'}, 'fbb1074a-50a8-4352-ad68-bfa439261c7c': {'title': 'A Christmas Carol', 'gutenberg_id': 46, 'source': 'book', 'excerpt_keywords': 'Keywords: Project Gutenberg, Gutenberg-tm, volunteers, donations, Project Gutenberg Literary Archive Foundation, 501(c)(3), tax deductible, IRS, Salt Lake City, contact'}, '5cb1f4cf-97e0-489f-a00d-92eadc87a0a8': {'title': 'A Christmas Carol', 'gutenberg_id': 46, 'source': 'book', 'excerpt_keywords': 'Project Gutenberg, license, Foundation, copyright, public domain, terms, agreement, derivative works, compliance, references'}})"
      ]
     },
     "execution_count": 20,
     "metadata": {},
     "output_type": "execute_result"
    }
   ],
   "source": [
    "await aworkflow.run(query=\"What is the book stored in database?\")"
   ]
  },
  {
   "cell_type": "code",
   "execution_count": 21,
   "id": "fc8a31ea",
   "metadata": {},
   "outputs": [
    {
     "name": "stderr",
     "output_type": "stream",
     "text": [
      "OPIK: No trace data found in context for event start. This is likely due to the fact that the trace is not started properly. The parent_id: a7ea5fe2-c54e-4f1d-a037-74adc8a44a90, event_type: CBEventType.CHUNKING, event_id: 5c798a0c-a91f-44dd-9345-93dbb2f8c446.\n",
      "OPIK: No trace data found in context for event start. This is likely due to the fact that the trace is not started properly. The parent_id: a7ea5fe2-c54e-4f1d-a037-74adc8a44a90, event_type: CBEventType.CHUNKING, event_id: 8523c7cf-e9bd-4f45-bf4c-3df73b06d586.\n"
     ]
    }
   ],
   "source": [
    "response = await aworkflow.run(\n",
    "    query=\"What is 'A Christmas Carol' novel's main theme?\", ctx=restored_ctx\n",
    ")"
   ]
  },
  {
   "cell_type": "code",
   "execution_count": 22,
   "id": "565d0dab",
   "metadata": {},
   "outputs": [
    {
     "data": {
      "text/plain": [
       "'The main theme is the transformation and redemption of Ebenezer Scrooge—from selfishness to generosity—emphasizing charity toward the poor and compassion for others, sometimes read as a Christian allegory or a secular humanitarian message.'"
      ]
     },
     "execution_count": 22,
     "metadata": {},
     "output_type": "execute_result"
    }
   ],
   "source": [
    "response.response"
   ]
  },
  {
   "cell_type": "code",
   "execution_count": 23,
   "id": "4d0fdb2b",
   "metadata": {},
   "outputs": [
    {
     "name": "stderr",
     "output_type": "stream",
     "text": [
      "OPIK: No trace data found in context for event start. This is likely due to the fact that the trace is not started properly. The parent_id: c975d6c0-146d-4243-a192-1d0273fbda74, event_type: CBEventType.CHUNKING, event_id: 692a3879-b8f9-465e-95a4-017e165c6333.\n",
      "OPIK: No trace data found in context for event start. This is likely due to the fact that the trace is not started properly. The parent_id: c975d6c0-146d-4243-a192-1d0273fbda74, event_type: CBEventType.CHUNKING, event_id: 87638864-d93a-45d6-b2c3-4ad297844024.\n"
     ]
    }
   ],
   "source": [
    "response = await aworkflow.run(\n",
    "    query=\"What is 'A Christmas Carol' novel's main theme?\", ctx=restored_ctx\n",
    ")"
   ]
  },
  {
   "cell_type": "code",
   "execution_count": null,
   "id": "d0834c2e",
   "metadata": {},
   "outputs": [],
   "source": []
  }
 ],
 "metadata": {
  "kernelspec": {
   "display_name": "default",
   "language": "python",
   "name": "python3"
  },
  "language_info": {
   "codemirror_mode": {
    "name": "ipython",
    "version": 3
   },
   "file_extension": ".py",
   "mimetype": "text/x-python",
   "name": "python",
   "nbconvert_exporter": "python",
   "pygments_lexer": "ipython3",
   "version": "3.11.13"
  }
 },
 "nbformat": 4,
 "nbformat_minor": 5
}
